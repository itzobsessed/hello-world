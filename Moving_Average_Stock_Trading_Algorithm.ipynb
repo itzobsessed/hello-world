{
  "nbformat": 4,
  "nbformat_minor": 0,
  "metadata": {
    "colab": {
      "name": "Moving Average Stock Trading Algorithm.ipynb",
      "provenance": [],
      "collapsed_sections": [],
      "authorship_tag": "ABX9TyN8dpMugbF6gRw/e+QyrSRR",
      "include_colab_link": true
    },
    "kernelspec": {
      "name": "python3",
      "display_name": "Python 3"
    },
    "language_info": {
      "name": "python"
    }
  },
  "cells": [
    {
      "cell_type": "markdown",
      "metadata": {
        "id": "view-in-github",
        "colab_type": "text"
      },
      "source": [
        "<a href=\"https://colab.research.google.com/github/itzobsessed/hello-world/blob/master/Moving_Average_Stock_Trading_Algorithm.ipynb\" target=\"_parent\"><img src=\"https://colab.research.google.com/assets/colab-badge.svg\" alt=\"Open In Colab\"/></a>"
      ]
    },
    {
      "cell_type": "code",
      "execution_count": null,
      "metadata": {
        "id": "lqQKwDIjYGbX"
      },
      "outputs": [],
      "source": [
        "#Importing Libraries (Possibly needed)\n",
        "\n",
        "import math\n",
        "import pandas_datareader as web\n",
        "import numpy as np\n",
        "import pandas as pd\n",
        "from sklearn.preprocessing import MinMaxScaler\n",
        "from keras.models import Sequential\n",
        "from keras.layers import Dense, LSTM\n",
        "import matplotlib.pyplot as plt\n",
        "plt.style.use('fivethirtyeight')"
      ]
    },
    {
      "cell_type": "code",
      "source": [
        "#Importing Yahoo Finance\n",
        "\n",
        "!pip install yfinance \n",
        " \n",
        "import yfinance as yf "
      ],
      "metadata": {
        "colab": {
          "base_uri": "https://localhost:8080/"
        },
        "id": "vzGRMo38W7RL",
        "outputId": "d02f2600-cdb1-45bc-edc1-6adc14840dbf"
      },
      "execution_count": null,
      "outputs": [
        {
          "output_type": "stream",
          "name": "stdout",
          "text": [
            "Requirement already satisfied: yfinance in /usr/local/lib/python3.7/dist-packages (0.1.69)\n",
            "Requirement already satisfied: multitasking>=0.0.7 in /usr/local/lib/python3.7/dist-packages (from yfinance) (0.0.10)\n",
            "Requirement already satisfied: pandas>=0.24 in /usr/local/lib/python3.7/dist-packages (from yfinance) (1.1.5)\n",
            "Requirement already satisfied: requests>=2.26 in /usr/local/lib/python3.7/dist-packages (from yfinance) (2.27.1)\n",
            "Requirement already satisfied: lxml>=4.5.1 in /usr/local/lib/python3.7/dist-packages (from yfinance) (4.7.1)\n",
            "Requirement already satisfied: numpy>=1.15 in /usr/local/lib/python3.7/dist-packages (from yfinance) (1.19.5)\n",
            "Requirement already satisfied: python-dateutil>=2.7.3 in /usr/local/lib/python3.7/dist-packages (from pandas>=0.24->yfinance) (2.8.2)\n",
            "Requirement already satisfied: pytz>=2017.2 in /usr/local/lib/python3.7/dist-packages (from pandas>=0.24->yfinance) (2018.9)\n",
            "Requirement already satisfied: six>=1.5 in /usr/local/lib/python3.7/dist-packages (from python-dateutil>=2.7.3->pandas>=0.24->yfinance) (1.15.0)\n",
            "Requirement already satisfied: urllib3<1.27,>=1.21.1 in /usr/local/lib/python3.7/dist-packages (from requests>=2.26->yfinance) (1.24.3)\n",
            "Requirement already satisfied: charset-normalizer~=2.0.0 in /usr/local/lib/python3.7/dist-packages (from requests>=2.26->yfinance) (2.0.10)\n",
            "Requirement already satisfied: certifi>=2017.4.17 in /usr/local/lib/python3.7/dist-packages (from requests>=2.26->yfinance) (2021.10.8)\n",
            "Requirement already satisfied: idna<4,>=2.5 in /usr/local/lib/python3.7/dist-packages (from requests>=2.26->yfinance) (2.10)\n"
          ]
        }
      ]
    },
    {
      "cell_type": "code",
      "source": [
        "#Importing needed functions from datetime Library\n",
        "from datetime import datetime, timedelta"
      ],
      "metadata": {
        "id": "eetWr3JdYzXh"
      },
      "execution_count": null,
      "outputs": []
    },
    {
      "cell_type": "code",
      "source": [
        "#Stock Information and Table\n",
        "\n",
        "Today = datetime.now().date()\n",
        "print(\"Today's Date is:\",Today)\n",
        "\n",
        "Stock = 'KR'\n",
        "\n",
        "df = yf.download(Stock,'2013-01-01',Today+timedelta(days=1))\n",
        "#Note: The Closing Date argument adds a day to get the closing price. Meaning without editing the current code the algorithm can only be applied after\n",
        "#Market Close (Approx 4:00pm EST) \n",
        "\n",
        "print(df)"
      ],
      "metadata": {
        "colab": {
          "base_uri": "https://localhost:8080/"
        },
        "id": "uDhlbVXtYRTo",
        "outputId": "2dfff6d5-43ea-4629-cf05-3d3aabd6ec84"
      },
      "execution_count": null,
      "outputs": [
        {
          "output_type": "stream",
          "name": "stdout",
          "text": [
            "Today's Date is: 2022-01-14\n",
            "[*********************100%***********************]  1 of 1 completed\n",
            "                 Open       High        Low      Close  Adj Close    Volume\n",
            "Date                                                                       \n",
            "2013-01-02  13.170000  13.205000  13.060000  13.185000  11.259493   7392800\n",
            "2013-01-03  13.170000  13.275000  13.125000  13.195000  11.268032   5841800\n",
            "2013-01-04  13.215000  13.255000  13.115000  13.230000  11.297918   7105000\n",
            "2013-01-07  13.190000  13.225000  12.880000  12.910000  11.024654   7604600\n",
            "2013-01-08  12.900000  12.920000  12.610000  12.640000  10.794087  11488600\n",
            "...               ...        ...        ...        ...        ...       ...\n",
            "2022-01-07  47.250000  48.889999  47.139999  48.119999  48.119999   8672700\n",
            "2022-01-10  48.290001  49.580002  48.150002  49.099998  49.099998  10632300\n",
            "2022-01-11  49.110001  49.689999  47.330002  47.709999  47.709999   8873500\n",
            "2022-01-12  47.049999  47.270000  46.169998  47.139999  47.139999   6787000\n",
            "2022-01-13  47.259998  50.150002  47.150002  49.480000  49.480000  12376679\n",
            "\n",
            "[2276 rows x 6 columns]\n"
          ]
        }
      ]
    },
    {
      "cell_type": "code",
      "source": [
        "df.shape"
      ],
      "metadata": {
        "colab": {
          "base_uri": "https://localhost:8080/"
        },
        "id": "m48Hd1Y2ZT5q",
        "outputId": "35574076-f9db-4bb9-fecf-bdf5bb5607d4"
      },
      "execution_count": null,
      "outputs": [
        {
          "output_type": "execute_result",
          "data": {
            "text/plain": [
              "(2276, 6)"
            ]
          },
          "metadata": {},
          "execution_count": 176
        }
      ]
    },
    {
      "cell_type": "code",
      "source": [
        "#Today's Closing Price\n",
        "\n",
        "for i in df['Close']:\n",
        "  TodaysClosingPrice=i\n",
        "print(\"The Closing Price of %s today was $%.2f\"%(Stock,TodaysClosingPrice))"
      ],
      "metadata": {
        "colab": {
          "base_uri": "https://localhost:8080/"
        },
        "id": "CY2Tp445kqSK",
        "outputId": "93d05da5-1509-4779-d611-66f21acd0902"
      },
      "execution_count": null,
      "outputs": [
        {
          "output_type": "stream",
          "name": "stdout",
          "text": [
            "The Closing Price of KR today was $49.48\n"
          ]
        }
      ]
    },
    {
      "cell_type": "code",
      "source": [
        "#Plotting Closing Prices against Days Pandas in Python\n",
        "\n",
        "#df_2014 = df.loc['2014-01-01':Today]\n",
        "plt.figure(figsize=(16,8))\n",
        "plt.xticks(rotation=45)\n",
        "plt.title('Closing Price Against Days')\n",
        "plt.plot(df['Close'], color='blue')\n",
        "#plt.plot(df_2014['Close'], color='blue')"
      ],
      "metadata": {
        "colab": {
          "base_uri": "https://localhost:8080/",
          "height": 574
        },
        "id": "ryTtz7DCl8yT",
        "outputId": "5c895d65-60ac-4072-a7a2-6a1b76b97878"
      },
      "execution_count": null,
      "outputs": [
        {
          "output_type": "execute_result",
          "data": {
            "text/plain": [
              "[<matplotlib.lines.Line2D at 0x7f8f02524c10>]"
            ]
          },
          "metadata": {},
          "execution_count": 178
        },
        {
          "output_type": "display_data",
          "data": {
            "image/png": "[encoded data removed]",
            "text/plain": [
              "<Figure size 1152x576 with 1 Axes>"
            ]
          },
          "metadata": {}
        }
      ]
    },
    {
      "cell_type": "code",
      "source": [
        "##Creating 30-Day Moving Average Plot of Closing Prices\n",
        "\n",
        "plt.figure(figsize=(16,8))\n",
        "plt.xticks(rotation=45)\n",
        "\n",
        "#Window size = rolling Mean Period\n",
        "#ThirtyDaySMA=df_2014['Close'].rolling(window=30).mean()\n",
        "ThirtyDaySMA=df['Close'].rolling(window=30).mean()\n",
        "plt.title('Closing Price and 30-Day Moving Average against Price')\n",
        "plt.plot(df['Close'], color='blue')\n",
        "plt.plot(ThirtyDaySMA, color='red')\n",
        "plt.legend([\"Price\",\"30-Day MA\"])"
      ],
      "metadata": {
        "colab": {
          "base_uri": "https://localhost:8080/",
          "height": 574
        },
        "id": "hZtiMWMirVVT",
        "outputId": "4bff8e12-673c-4e18-e01f-5087e85635ee"
      },
      "execution_count": null,
      "outputs": [
        {
          "output_type": "execute_result",
          "data": {
            "text/plain": [
              "<matplotlib.legend.Legend at 0x7f8f02561050>"
            ]
          },
          "metadata": {},
          "execution_count": 179
        },
        {
          "output_type": "display_data",
          "data": {
            "image/png": "[encoded data removed]",
            "text/plain": [
              "<Figure size 1152x576 with 1 Axes>"
            ]
          },
          "metadata": {}
        }
      ]
    },
    {
      "cell_type": "code",
      "source": [
        "df['30-Day MA'] = ThirtyDaySMA\n",
        "df"
      ],
      "metadata": {
        "colab": {
          "base_uri": "https://localhost:8080/",
          "height": 455
        },
        "id": "uAqV5T4Pxg_I",
        "outputId": "ee6c10e2-0242-41fd-d77a-c71b4fb2aff2"
      },
      "execution_count": null,
      "outputs": [
        {
          "output_type": "execute_result",
          "data": {
            "text/html": [
              "\n",
              "  <div id=\"df-4353b611-73dd-419b-947f-317a09fa2a1a\">\n",
              "    <div class=\"colab-df-container\">\n",
              "      <div>\n",
              "<style scoped>\n",
              "    .dataframe tbody tr th:only-of-type {\n",
              "        vertical-align: middle;\n",
              "    }\n",
              "\n",
              "    .dataframe tbody tr th {\n",
              "        vertical-align: top;\n",
              "    }\n",
              "\n",
              "    .dataframe thead th {\n",
              "        text-align: right;\n",
              "    }\n",
              "</style>\n",
              "<table border=\"1\" class=\"dataframe\">\n",
              "  <thead>\n",
              "    <tr style=\"text-align: right;\">\n",
              "      <th></th>\n",
              "      <th>Open</th>\n",
              "      <th>High</th>\n",
              "      <th>Low</th>\n",
              "      <th>Close</th>\n",
              "      <th>Adj Close</th>\n",
              "      <th>Volume</th>\n",
              "      <th>30-Day MA</th>\n",
              "    </tr>\n",
              "    <tr>\n",
              "      <th>Date</th>\n",
              "      <th></th>\n",
              "      <th></th>\n",
              "      <th></th>\n",
              "      <th></th>\n",
              "      <th></th>\n",
              "      <th></th>\n",
              "      <th></th>\n",
              "    </tr>\n",
              "  </thead>\n",
              "  <tbody>\n",
              "    <tr>\n",
              "      <th>2013-01-02</th>\n",
              "      <td>13.170000</td>\n",
              "      <td>13.205000</td>\n",
              "      <td>13.060000</td>\n",
              "      <td>13.185000</td>\n",
              "      <td>11.259493</td>\n",
              "      <td>7392800</td>\n",
              "      <td>NaN</td>\n",
              "    </tr>\n",
              "    <tr>\n",
              "      <th>2013-01-03</th>\n",
              "      <td>13.170000</td>\n",
              "      <td>13.275000</td>\n",
              "      <td>13.125000</td>\n",
              "      <td>13.195000</td>\n",
              "      <td>11.268032</td>\n",
              "      <td>5841800</td>\n",
              "      <td>NaN</td>\n",
              "    </tr>\n",
              "    <tr>\n",
              "      <th>2013-01-04</th>\n",
              "      <td>13.215000</td>\n",
              "      <td>13.255000</td>\n",
              "      <td>13.115000</td>\n",
              "      <td>13.230000</td>\n",
              "      <td>11.297918</td>\n",
              "      <td>7105000</td>\n",
              "      <td>NaN</td>\n",
              "    </tr>\n",
              "    <tr>\n",
              "      <th>2013-01-07</th>\n",
              "      <td>13.190000</td>\n",
              "      <td>13.225000</td>\n",
              "      <td>12.880000</td>\n",
              "      <td>12.910000</td>\n",
              "      <td>11.024654</td>\n",
              "      <td>7604600</td>\n",
              "      <td>NaN</td>\n",
              "    </tr>\n",
              "    <tr>\n",
              "      <th>2013-01-08</th>\n",
              "      <td>12.900000</td>\n",
              "      <td>12.920000</td>\n",
              "      <td>12.610000</td>\n",
              "      <td>12.640000</td>\n",
              "      <td>10.794087</td>\n",
              "      <td>11488600</td>\n",
              "      <td>NaN</td>\n",
              "    </tr>\n",
              "    <tr>\n",
              "      <th>...</th>\n",
              "      <td>...</td>\n",
              "      <td>...</td>\n",
              "      <td>...</td>\n",
              "      <td>...</td>\n",
              "      <td>...</td>\n",
              "      <td>...</td>\n",
              "      <td>...</td>\n",
              "    </tr>\n",
              "    <tr>\n",
              "      <th>2022-01-07</th>\n",
              "      <td>47.250000</td>\n",
              "      <td>48.889999</td>\n",
              "      <td>47.139999</td>\n",
              "      <td>48.119999</td>\n",
              "      <td>48.119999</td>\n",
              "      <td>8672700</td>\n",
              "      <td>44.583333</td>\n",
              "    </tr>\n",
              "    <tr>\n",
              "      <th>2022-01-10</th>\n",
              "      <td>48.290001</td>\n",
              "      <td>49.580002</td>\n",
              "      <td>48.150002</td>\n",
              "      <td>49.099998</td>\n",
              "      <td>49.099998</td>\n",
              "      <td>10632300</td>\n",
              "      <td>44.782000</td>\n",
              "    </tr>\n",
              "    <tr>\n",
              "      <th>2022-01-11</th>\n",
              "      <td>49.110001</td>\n",
              "      <td>49.689999</td>\n",
              "      <td>47.330002</td>\n",
              "      <td>47.709999</td>\n",
              "      <td>47.709999</td>\n",
              "      <td>8873500</td>\n",
              "      <td>44.960666</td>\n",
              "    </tr>\n",
              "    <tr>\n",
              "      <th>2022-01-12</th>\n",
              "      <td>47.049999</td>\n",
              "      <td>47.270000</td>\n",
              "      <td>46.169998</td>\n",
              "      <td>47.139999</td>\n",
              "      <td>47.139999</td>\n",
              "      <td>6787000</td>\n",
              "      <td>45.147666</td>\n",
              "    </tr>\n",
              "    <tr>\n",
              "      <th>2022-01-13</th>\n",
              "      <td>47.259998</td>\n",
              "      <td>50.150002</td>\n",
              "      <td>47.150002</td>\n",
              "      <td>49.480000</td>\n",
              "      <td>49.480000</td>\n",
              "      <td>12376679</td>\n",
              "      <td>45.456666</td>\n",
              "    </tr>\n",
              "  </tbody>\n",
              "</table>\n",
              "<p>2276 rows × 7 columns</p>\n",
              "</div>\n",
              "      <button class=\"colab-df-convert\" onclick=\"convertToInteractive('df-4353b611-73dd-419b-947f-317a09fa2a1a')\"\n",
              "              title=\"Convert this dataframe to an interactive table.\"\n",
              "              style=\"display:none;\">\n",
              "        \n",
              "  <svg xmlns=\"http://www.w3.org/2000/svg\" height=\"24px\"viewBox=\"0 0 24 24\"\n",
              "       width=\"24px\">\n",
              "    <path d=\"M0 0h24v24H0V0z\" fill=\"none\"/>\n",
              "    <path d=\"M18.56 5.44l.94 2.06.94-2.06 2.06-.94-2.06-.94-.94-2.06-.94 2.06-2.06.94zm-11 1L8.5 8.5l.94-2.06 2.06-.94-2.06-.94L8.5 2.5l-.94 2.06-2.06.94zm10 10l.94 2.06.94-2.06 2.06-.94-2.06-.94-.94-2.06-.94 2.06-2.06.94z\"/><path d=\"M17.41 7.96l-1.37-1.37c-.4-.4-.92-.59-1.43-.59-.52 0-1.04.2-1.43.59L10.3 9.45l-7.72 7.72c-.78.78-.78 2.05 0 2.83L4 21.41c.39.39.9.59 1.41.59.51 0 1.02-.2 1.41-.59l7.78-7.78 2.81-2.81c.8-.78.8-2.07 0-2.86zM5.41 20L4 18.59l7.72-7.72 1.47 1.35L5.41 20z\"/>\n",
              "  </svg>\n",
              "      </button>\n",
              "      \n",
              "  <style>\n",
              "    .colab-df-container {\n",
              "      display:flex;\n",
              "      flex-wrap:wrap;\n",
              "      gap: 12px;\n",
              "    }\n",
              "\n",
              "    .colab-df-convert {\n",
              "      background-color: #E8F0FE;\n",
              "      border: none;\n",
              "      border-radius: 50%;\n",
              "      cursor: pointer;\n",
              "      display: none;\n",
              "      fill: #1967D2;\n",
              "      height: 32px;\n",
              "      padding: 0 0 0 0;\n",
              "      width: 32px;\n",
              "    }\n",
              "\n",
              "    .colab-df-convert:hover {\n",
              "      background-color: #E2EBFA;\n",
              "      box-shadow: 0px 1px 2px rgba(60, 64, 67, 0.3), 0px 1px 3px 1px rgba(60, 64, 67, 0.15);\n",
              "      fill: #174EA6;\n",
              "    }\n",
              "\n",
              "    [theme=dark] .colab-df-convert {\n",
              "      background-color: #3B4455;\n",
              "      fill: #D2E3FC;\n",
              "    }\n",
              "\n",
              "    [theme=dark] .colab-df-convert:hover {\n",
              "      background-color: #434B5C;\n",
              "      box-shadow: 0px 1px 3px 1px rgba(0, 0, 0, 0.15);\n",
              "      filter: drop-shadow(0px 1px 2px rgba(0, 0, 0, 0.3));\n",
              "      fill: #FFFFFF;\n",
              "    }\n",
              "  </style>\n",
              "\n",
              "      <script>\n",
              "        const buttonEl =\n",
              "          document.querySelector('#df-4353b611-73dd-419b-947f-317a09fa2a1a button.colab-df-convert');\n",
              "        buttonEl.style.display =\n",
              "          google.colab.kernel.accessAllowed ? 'block' : 'none';\n",
              "\n",
              "        async function convertToInteractive(key) {\n",
              "          const element = document.querySelector('#df-4353b611-73dd-419b-947f-317a09fa2a1a');\n",
              "          const dataTable =\n",
              "            await google.colab.kernel.invokeFunction('convertToInteractive',\n",
              "                                                     [key], {});\n",
              "          if (!dataTable) return;\n",
              "\n",
              "          const docLinkHtml = 'Like what you see? Visit the ' +\n",
              "            '<a target=\"_blank\" href=https://colab.research.google.com/notebooks/data_table.ipynb>data table notebook</a>'\n",
              "            + ' to learn more about interactive tables.';\n",
              "          element.innerHTML = '';\n",
              "          dataTable['output_type'] = 'display_data';\n",
              "          await google.colab.output.renderOutput(dataTable, element);\n",
              "          const docLink = document.createElement('div');\n",
              "          docLink.innerHTML = docLinkHtml;\n",
              "          element.appendChild(docLink);\n",
              "        }\n",
              "      </script>\n",
              "    </div>\n",
              "  </div>\n",
              "  "
            ],
            "text/plain": [
              "                 Open       High        Low  ...  Adj Close    Volume  30-Day MA\n",
              "Date                                         ...                                \n",
              "2013-01-02  13.170000  13.205000  13.060000  ...  11.259493   7392800        NaN\n",
              "2013-01-03  13.170000  13.275000  13.125000  ...  11.268032   5841800        NaN\n",
              "2013-01-04  13.215000  13.255000  13.115000  ...  11.297918   7105000        NaN\n",
              "2013-01-07  13.190000  13.225000  12.880000  ...  11.024654   7604600        NaN\n",
              "2013-01-08  12.900000  12.920000  12.610000  ...  10.794087  11488600        NaN\n",
              "...               ...        ...        ...  ...        ...       ...        ...\n",
              "2022-01-07  47.250000  48.889999  47.139999  ...  48.119999   8672700  44.583333\n",
              "2022-01-10  48.290001  49.580002  48.150002  ...  49.099998  10632300  44.782000\n",
              "2022-01-11  49.110001  49.689999  47.330002  ...  47.709999   8873500  44.960666\n",
              "2022-01-12  47.049999  47.270000  46.169998  ...  47.139999   6787000  45.147666\n",
              "2022-01-13  47.259998  50.150002  47.150002  ...  49.480000  12376679  45.456666\n",
              "\n",
              "[2276 rows x 7 columns]"
            ]
          },
          "metadata": {},
          "execution_count": 182
        }
      ]
    },
    {
      "cell_type": "code",
      "source": [
        "#Remove NaN values before SD Calculation\n",
        "dfNaValuesDropped = df.dropna()\n",
        "dfNaValuesDropped.head()"
      ],
      "metadata": {
        "colab": {
          "base_uri": "https://localhost:8080/",
          "height": 238
        },
        "id": "5YTzhGAVJ8R6",
        "outputId": "412a7f27-8ed0-44d9-c85e-0ab0cb713dfe"
      },
      "execution_count": null,
      "outputs": [
        {
          "output_type": "execute_result",
          "data": {
            "text/html": [
              "\n",
              "  <div id=\"df-4139bcf7-23a3-4fe7-aa36-688432e2a720\">\n",
              "    <div class=\"colab-df-container\">\n",
              "      <div>\n",
              "<style scoped>\n",
              "    .dataframe tbody tr th:only-of-type {\n",
              "        vertical-align: middle;\n",
              "    }\n",
              "\n",
              "    .dataframe tbody tr th {\n",
              "        vertical-align: top;\n",
              "    }\n",
              "\n",
              "    .dataframe thead th {\n",
              "        text-align: right;\n",
              "    }\n",
              "</style>\n",
              "<table border=\"1\" class=\"dataframe\">\n",
              "  <thead>\n",
              "    <tr style=\"text-align: right;\">\n",
              "      <th></th>\n",
              "      <th>Open</th>\n",
              "      <th>High</th>\n",
              "      <th>Low</th>\n",
              "      <th>Close</th>\n",
              "      <th>Adj Close</th>\n",
              "      <th>Volume</th>\n",
              "      <th>30-Day MA</th>\n",
              "    </tr>\n",
              "    <tr>\n",
              "      <th>Date</th>\n",
              "      <th></th>\n",
              "      <th></th>\n",
              "      <th></th>\n",
              "      <th></th>\n",
              "      <th></th>\n",
              "      <th></th>\n",
              "      <th></th>\n",
              "    </tr>\n",
              "  </thead>\n",
              "  <tbody>\n",
              "    <tr>\n",
              "      <th>2013-02-13</th>\n",
              "      <td>14.250</td>\n",
              "      <td>14.300</td>\n",
              "      <td>14.185</td>\n",
              "      <td>14.230</td>\n",
              "      <td>12.216089</td>\n",
              "      <td>5036200</td>\n",
              "      <td>13.562167</td>\n",
              "    </tr>\n",
              "    <tr>\n",
              "      <th>2013-02-14</th>\n",
              "      <td>14.155</td>\n",
              "      <td>14.205</td>\n",
              "      <td>14.090</td>\n",
              "      <td>14.120</td>\n",
              "      <td>12.121658</td>\n",
              "      <td>8496000</td>\n",
              "      <td>13.593333</td>\n",
              "    </tr>\n",
              "    <tr>\n",
              "      <th>2013-02-15</th>\n",
              "      <td>14.085</td>\n",
              "      <td>14.105</td>\n",
              "      <td>13.900</td>\n",
              "      <td>13.945</td>\n",
              "      <td>11.971424</td>\n",
              "      <td>12215000</td>\n",
              "      <td>13.618333</td>\n",
              "    </tr>\n",
              "    <tr>\n",
              "      <th>2013-02-19</th>\n",
              "      <td>14.005</td>\n",
              "      <td>14.125</td>\n",
              "      <td>14.000</td>\n",
              "      <td>14.105</td>\n",
              "      <td>12.108779</td>\n",
              "      <td>7671400</td>\n",
              "      <td>13.647500</td>\n",
              "    </tr>\n",
              "    <tr>\n",
              "      <th>2013-02-20</th>\n",
              "      <td>14.080</td>\n",
              "      <td>14.090</td>\n",
              "      <td>13.820</td>\n",
              "      <td>13.835</td>\n",
              "      <td>11.876994</td>\n",
              "      <td>8541800</td>\n",
              "      <td>13.678333</td>\n",
              "    </tr>\n",
              "  </tbody>\n",
              "</table>\n",
              "</div>\n",
              "      <button class=\"colab-df-convert\" onclick=\"convertToInteractive('df-4139bcf7-23a3-4fe7-aa36-688432e2a720')\"\n",
              "              title=\"Convert this dataframe to an interactive table.\"\n",
              "              style=\"display:none;\">\n",
              "        \n",
              "  <svg xmlns=\"http://www.w3.org/2000/svg\" height=\"24px\"viewBox=\"0 0 24 24\"\n",
              "       width=\"24px\">\n",
              "    <path d=\"M0 0h24v24H0V0z\" fill=\"none\"/>\n",
              "    <path d=\"M18.56 5.44l.94 2.06.94-2.06 2.06-.94-2.06-.94-.94-2.06-.94 2.06-2.06.94zm-11 1L8.5 8.5l.94-2.06 2.06-.94-2.06-.94L8.5 2.5l-.94 2.06-2.06.94zm10 10l.94 2.06.94-2.06 2.06-.94-2.06-.94-.94-2.06-.94 2.06-2.06.94z\"/><path d=\"M17.41 7.96l-1.37-1.37c-.4-.4-.92-.59-1.43-.59-.52 0-1.04.2-1.43.59L10.3 9.45l-7.72 7.72c-.78.78-.78 2.05 0 2.83L4 21.41c.39.39.9.59 1.41.59.51 0 1.02-.2 1.41-.59l7.78-7.78 2.81-2.81c.8-.78.8-2.07 0-2.86zM5.41 20L4 18.59l7.72-7.72 1.47 1.35L5.41 20z\"/>\n",
              "  </svg>\n",
              "      </button>\n",
              "      \n",
              "  <style>\n",
              "    .colab-df-container {\n",
              "      display:flex;\n",
              "      flex-wrap:wrap;\n",
              "      gap: 12px;\n",
              "    }\n",
              "\n",
              "    .colab-df-convert {\n",
              "      background-color: #E8F0FE;\n",
              "      border: none;\n",
              "      border-radius: 50%;\n",
              "      cursor: pointer;\n",
              "      display: none;\n",
              "      fill: #1967D2;\n",
              "      height: 32px;\n",
              "      padding: 0 0 0 0;\n",
              "      width: 32px;\n",
              "    }\n",
              "\n",
              "    .colab-df-convert:hover {\n",
              "      background-color: #E2EBFA;\n",
              "      box-shadow: 0px 1px 2px rgba(60, 64, 67, 0.3), 0px 1px 3px 1px rgba(60, 64, 67, 0.15);\n",
              "      fill: #174EA6;\n",
              "    }\n",
              "\n",
              "    [theme=dark] .colab-df-convert {\n",
              "      background-color: #3B4455;\n",
              "      fill: #D2E3FC;\n",
              "    }\n",
              "\n",
              "    [theme=dark] .colab-df-convert:hover {\n",
              "      background-color: #434B5C;\n",
              "      box-shadow: 0px 1px 3px 1px rgba(0, 0, 0, 0.15);\n",
              "      filter: drop-shadow(0px 1px 2px rgba(0, 0, 0, 0.3));\n",
              "      fill: #FFFFFF;\n",
              "    }\n",
              "  </style>\n",
              "\n",
              "      <script>\n",
              "        const buttonEl =\n",
              "          document.querySelector('#df-4139bcf7-23a3-4fe7-aa36-688432e2a720 button.colab-df-convert');\n",
              "        buttonEl.style.display =\n",
              "          google.colab.kernel.accessAllowed ? 'block' : 'none';\n",
              "\n",
              "        async function convertToInteractive(key) {\n",
              "          const element = document.querySelector('#df-4139bcf7-23a3-4fe7-aa36-688432e2a720');\n",
              "          const dataTable =\n",
              "            await google.colab.kernel.invokeFunction('convertToInteractive',\n",
              "                                                     [key], {});\n",
              "          if (!dataTable) return;\n",
              "\n",
              "          const docLinkHtml = 'Like what you see? Visit the ' +\n",
              "            '<a target=\"_blank\" href=https://colab.research.google.com/notebooks/data_table.ipynb>data table notebook</a>'\n",
              "            + ' to learn more about interactive tables.';\n",
              "          element.innerHTML = '';\n",
              "          dataTable['output_type'] = 'display_data';\n",
              "          await google.colab.output.renderOutput(dataTable, element);\n",
              "          const docLink = document.createElement('div');\n",
              "          docLink.innerHTML = docLinkHtml;\n",
              "          element.appendChild(docLink);\n",
              "        }\n",
              "      </script>\n",
              "    </div>\n",
              "  </div>\n",
              "  "
            ],
            "text/plain": [
              "              Open    High     Low   Close  Adj Close    Volume  30-Day MA\n",
              "Date                                                                      \n",
              "2013-02-13  14.250  14.300  14.185  14.230  12.216089   5036200  13.562167\n",
              "2013-02-14  14.155  14.205  14.090  14.120  12.121658   8496000  13.593333\n",
              "2013-02-15  14.085  14.105  13.900  13.945  11.971424  12215000  13.618333\n",
              "2013-02-19  14.005  14.125  14.000  14.105  12.108779   7671400  13.647500\n",
              "2013-02-20  14.080  14.090  13.820  13.835  11.876994   8541800  13.678333"
            ]
          },
          "metadata": {},
          "execution_count": 183
        }
      ]
    },
    {
      "cell_type": "code",
      "source": [
        "dfNaValuesDropped['Price - MA'] = dfNaValuesDropped['Close'] - ThirtyDaySMA\n",
        "dfNaValuesDropped"
      ],
      "metadata": {
        "colab": {
          "base_uri": "https://localhost:8080/",
          "height": 559
        },
        "id": "TDdQ0-pwNS3T",
        "outputId": "3cf7458a-4096-410d-af86-7e21243483f5"
      },
      "execution_count": null,
      "outputs": [
        {
          "output_type": "stream",
          "name": "stderr",
          "text": [
            "/usr/local/lib/python3.7/dist-packages/ipykernel_launcher.py:1: SettingWithCopyWarning: \n",
            "A value is trying to be set on a copy of a slice from a DataFrame.\n",
            "Try using .loc[row_indexer,col_indexer] = value instead\n",
            "\n",
            "See the caveats in the documentation: https://pandas.pydata.org/pandas-docs/stable/user_guide/indexing.html#returning-a-view-versus-a-copy\n",
            "  \"\"\"Entry point for launching an IPython kernel.\n"
          ]
        },
        {
          "output_type": "execute_result",
          "data": {
            "text/html": [
              "\n",
              "  <div id=\"df-8dca598d-808d-43f4-a9b7-f3b8a1b29d17\">\n",
              "    <div class=\"colab-df-container\">\n",
              "      <div>\n",
              "<style scoped>\n",
              "    .dataframe tbody tr th:only-of-type {\n",
              "        vertical-align: middle;\n",
              "    }\n",
              "\n",
              "    .dataframe tbody tr th {\n",
              "        vertical-align: top;\n",
              "    }\n",
              "\n",
              "    .dataframe thead th {\n",
              "        text-align: right;\n",
              "    }\n",
              "</style>\n",
              "<table border=\"1\" class=\"dataframe\">\n",
              "  <thead>\n",
              "    <tr style=\"text-align: right;\">\n",
              "      <th></th>\n",
              "      <th>Open</th>\n",
              "      <th>High</th>\n",
              "      <th>Low</th>\n",
              "      <th>Close</th>\n",
              "      <th>Adj Close</th>\n",
              "      <th>Volume</th>\n",
              "      <th>30-Day MA</th>\n",
              "      <th>Price - MA</th>\n",
              "    </tr>\n",
              "    <tr>\n",
              "      <th>Date</th>\n",
              "      <th></th>\n",
              "      <th></th>\n",
              "      <th></th>\n",
              "      <th></th>\n",
              "      <th></th>\n",
              "      <th></th>\n",
              "      <th></th>\n",
              "      <th></th>\n",
              "    </tr>\n",
              "  </thead>\n",
              "  <tbody>\n",
              "    <tr>\n",
              "      <th>2013-02-13</th>\n",
              "      <td>14.250000</td>\n",
              "      <td>14.300000</td>\n",
              "      <td>14.185000</td>\n",
              "      <td>14.230000</td>\n",
              "      <td>12.216089</td>\n",
              "      <td>5036200</td>\n",
              "      <td>13.562167</td>\n",
              "      <td>0.667833</td>\n",
              "    </tr>\n",
              "    <tr>\n",
              "      <th>2013-02-14</th>\n",
              "      <td>14.155000</td>\n",
              "      <td>14.205000</td>\n",
              "      <td>14.090000</td>\n",
              "      <td>14.120000</td>\n",
              "      <td>12.121658</td>\n",
              "      <td>8496000</td>\n",
              "      <td>13.593333</td>\n",
              "      <td>0.526667</td>\n",
              "    </tr>\n",
              "    <tr>\n",
              "      <th>2013-02-15</th>\n",
              "      <td>14.085000</td>\n",
              "      <td>14.105000</td>\n",
              "      <td>13.900000</td>\n",
              "      <td>13.945000</td>\n",
              "      <td>11.971424</td>\n",
              "      <td>12215000</td>\n",
              "      <td>13.618333</td>\n",
              "      <td>0.326666</td>\n",
              "    </tr>\n",
              "    <tr>\n",
              "      <th>2013-02-19</th>\n",
              "      <td>14.005000</td>\n",
              "      <td>14.125000</td>\n",
              "      <td>14.000000</td>\n",
              "      <td>14.105000</td>\n",
              "      <td>12.108779</td>\n",
              "      <td>7671400</td>\n",
              "      <td>13.647500</td>\n",
              "      <td>0.457500</td>\n",
              "    </tr>\n",
              "    <tr>\n",
              "      <th>2013-02-20</th>\n",
              "      <td>14.080000</td>\n",
              "      <td>14.090000</td>\n",
              "      <td>13.820000</td>\n",
              "      <td>13.835000</td>\n",
              "      <td>11.876994</td>\n",
              "      <td>8541800</td>\n",
              "      <td>13.678333</td>\n",
              "      <td>0.156667</td>\n",
              "    </tr>\n",
              "    <tr>\n",
              "      <th>...</th>\n",
              "      <td>...</td>\n",
              "      <td>...</td>\n",
              "      <td>...</td>\n",
              "      <td>...</td>\n",
              "      <td>...</td>\n",
              "      <td>...</td>\n",
              "      <td>...</td>\n",
              "      <td>...</td>\n",
              "    </tr>\n",
              "    <tr>\n",
              "      <th>2022-01-07</th>\n",
              "      <td>47.250000</td>\n",
              "      <td>48.889999</td>\n",
              "      <td>47.139999</td>\n",
              "      <td>48.119999</td>\n",
              "      <td>48.119999</td>\n",
              "      <td>8672700</td>\n",
              "      <td>44.583333</td>\n",
              "      <td>3.536666</td>\n",
              "    </tr>\n",
              "    <tr>\n",
              "      <th>2022-01-10</th>\n",
              "      <td>48.290001</td>\n",
              "      <td>49.580002</td>\n",
              "      <td>48.150002</td>\n",
              "      <td>49.099998</td>\n",
              "      <td>49.099998</td>\n",
              "      <td>10632300</td>\n",
              "      <td>44.782000</td>\n",
              "      <td>4.317999</td>\n",
              "    </tr>\n",
              "    <tr>\n",
              "      <th>2022-01-11</th>\n",
              "      <td>49.110001</td>\n",
              "      <td>49.689999</td>\n",
              "      <td>47.330002</td>\n",
              "      <td>47.709999</td>\n",
              "      <td>47.709999</td>\n",
              "      <td>8873500</td>\n",
              "      <td>44.960666</td>\n",
              "      <td>2.749333</td>\n",
              "    </tr>\n",
              "    <tr>\n",
              "      <th>2022-01-12</th>\n",
              "      <td>47.049999</td>\n",
              "      <td>47.270000</td>\n",
              "      <td>46.169998</td>\n",
              "      <td>47.139999</td>\n",
              "      <td>47.139999</td>\n",
              "      <td>6787000</td>\n",
              "      <td>45.147666</td>\n",
              "      <td>1.992333</td>\n",
              "    </tr>\n",
              "    <tr>\n",
              "      <th>2022-01-13</th>\n",
              "      <td>47.259998</td>\n",
              "      <td>50.150002</td>\n",
              "      <td>47.150002</td>\n",
              "      <td>49.480000</td>\n",
              "      <td>49.480000</td>\n",
              "      <td>12376679</td>\n",
              "      <td>45.456666</td>\n",
              "      <td>4.023333</td>\n",
              "    </tr>\n",
              "  </tbody>\n",
              "</table>\n",
              "<p>2247 rows × 8 columns</p>\n",
              "</div>\n",
              "      <button class=\"colab-df-convert\" onclick=\"convertToInteractive('df-8dca598d-808d-43f4-a9b7-f3b8a1b29d17')\"\n",
              "              title=\"Convert this dataframe to an interactive table.\"\n",
              "              style=\"display:none;\">\n",
              "        \n",
              "  <svg xmlns=\"http://www.w3.org/2000/svg\" height=\"24px\"viewBox=\"0 0 24 24\"\n",
              "       width=\"24px\">\n",
              "    <path d=\"M0 0h24v24H0V0z\" fill=\"none\"/>\n",
              "    <path d=\"M18.56 5.44l.94 2.06.94-2.06 2.06-.94-2.06-.94-.94-2.06-.94 2.06-2.06.94zm-11 1L8.5 8.5l.94-2.06 2.06-.94-2.06-.94L8.5 2.5l-.94 2.06-2.06.94zm10 10l.94 2.06.94-2.06 2.06-.94-2.06-.94-.94-2.06-.94 2.06-2.06.94z\"/><path d=\"M17.41 7.96l-1.37-1.37c-.4-.4-.92-.59-1.43-.59-.52 0-1.04.2-1.43.59L10.3 9.45l-7.72 7.72c-.78.78-.78 2.05 0 2.83L4 21.41c.39.39.9.59 1.41.59.51 0 1.02-.2 1.41-.59l7.78-7.78 2.81-2.81c.8-.78.8-2.07 0-2.86zM5.41 20L4 18.59l7.72-7.72 1.47 1.35L5.41 20z\"/>\n",
              "  </svg>\n",
              "      </button>\n",
              "      \n",
              "  <style>\n",
              "    .colab-df-container {\n",
              "      display:flex;\n",
              "      flex-wrap:wrap;\n",
              "      gap: 12px;\n",
              "    }\n",
              "\n",
              "    .colab-df-convert {\n",
              "      background-color: #E8F0FE;\n",
              "      border: none;\n",
              "      border-radius: 50%;\n",
              "      cursor: pointer;\n",
              "      display: none;\n",
              "      fill: #1967D2;\n",
              "      height: 32px;\n",
              "      padding: 0 0 0 0;\n",
              "      width: 32px;\n",
              "    }\n",
              "\n",
              "    .colab-df-convert:hover {\n",
              "      background-color: #E2EBFA;\n",
              "      box-shadow: 0px 1px 2px rgba(60, 64, 67, 0.3), 0px 1px 3px 1px rgba(60, 64, 67, 0.15);\n",
              "      fill: #174EA6;\n",
              "    }\n",
              "\n",
              "    [theme=dark] .colab-df-convert {\n",
              "      background-color: #3B4455;\n",
              "      fill: #D2E3FC;\n",
              "    }\n",
              "\n",
              "    [theme=dark] .colab-df-convert:hover {\n",
              "      background-color: #434B5C;\n",
              "      box-shadow: 0px 1px 3px 1px rgba(0, 0, 0, 0.15);\n",
              "      filter: drop-shadow(0px 1px 2px rgba(0, 0, 0, 0.3));\n",
              "      fill: #FFFFFF;\n",
              "    }\n",
              "  </style>\n",
              "\n",
              "      <script>\n",
              "        const buttonEl =\n",
              "          document.querySelector('#df-8dca598d-808d-43f4-a9b7-f3b8a1b29d17 button.colab-df-convert');\n",
              "        buttonEl.style.display =\n",
              "          google.colab.kernel.accessAllowed ? 'block' : 'none';\n",
              "\n",
              "        async function convertToInteractive(key) {\n",
              "          const element = document.querySelector('#df-8dca598d-808d-43f4-a9b7-f3b8a1b29d17');\n",
              "          const dataTable =\n",
              "            await google.colab.kernel.invokeFunction('convertToInteractive',\n",
              "                                                     [key], {});\n",
              "          if (!dataTable) return;\n",
              "\n",
              "          const docLinkHtml = 'Like what you see? Visit the ' +\n",
              "            '<a target=\"_blank\" href=https://colab.research.google.com/notebooks/data_table.ipynb>data table notebook</a>'\n",
              "            + ' to learn more about interactive tables.';\n",
              "          element.innerHTML = '';\n",
              "          dataTable['output_type'] = 'display_data';\n",
              "          await google.colab.output.renderOutput(dataTable, element);\n",
              "          const docLink = document.createElement('div');\n",
              "          docLink.innerHTML = docLinkHtml;\n",
              "          element.appendChild(docLink);\n",
              "        }\n",
              "      </script>\n",
              "    </div>\n",
              "  </div>\n",
              "  "
            ],
            "text/plain": [
              "                 Open       High        Low  ...    Volume  30-Day MA  Price - MA\n",
              "Date                                         ...                                 \n",
              "2013-02-13  14.250000  14.300000  14.185000  ...   5036200  13.562167    0.667833\n",
              "2013-02-14  14.155000  14.205000  14.090000  ...   8496000  13.593333    0.526667\n",
              "2013-02-15  14.085000  14.105000  13.900000  ...  12215000  13.618333    0.326666\n",
              "2013-02-19  14.005000  14.125000  14.000000  ...   7671400  13.647500    0.457500\n",
              "2013-02-20  14.080000  14.090000  13.820000  ...   8541800  13.678333    0.156667\n",
              "...               ...        ...        ...  ...       ...        ...         ...\n",
              "2022-01-07  47.250000  48.889999  47.139999  ...   8672700  44.583333    3.536666\n",
              "2022-01-10  48.290001  49.580002  48.150002  ...  10632300  44.782000    4.317999\n",
              "2022-01-11  49.110001  49.689999  47.330002  ...   8873500  44.960666    2.749333\n",
              "2022-01-12  47.049999  47.270000  46.169998  ...   6787000  45.147666    1.992333\n",
              "2022-01-13  47.259998  50.150002  47.150002  ...  12376679  45.456666    4.023333\n",
              "\n",
              "[2247 rows x 8 columns]"
            ]
          },
          "metadata": {},
          "execution_count": 184
        }
      ]
    },
    {
      "cell_type": "code",
      "source": [
        "shape = dfNaValuesDropped.shape\n",
        "print(shape)"
      ],
      "metadata": {
        "colab": {
          "base_uri": "https://localhost:8080/"
        },
        "id": "pNTP3aHRIkL3",
        "outputId": "25c94453-dea3-4110-d834-d6a8c3c01178"
      },
      "execution_count": null,
      "outputs": [
        {
          "output_type": "stream",
          "name": "stdout",
          "text": [
            "(2247, 8)\n"
          ]
        }
      ]
    },
    {
      "cell_type": "code",
      "source": [
        "#Analysis of the relationship between the Price and th MA Using the 'Price - MA' field\n",
        "\n",
        "#According to General Statistics, when looking at a bell curve;\n",
        "# 68% of the measures lies within 1 standard deviation of the mean.\n",
        "# 95% of the distribution lies within 2 standard deviations of the mean \n",
        "# 99.7% of the measures fall within 3 standard deviations of it\n",
        "Difference=dfNaValuesDropped['Price - MA']\n",
        "MaximumDifference = Difference.max()\n",
        "MinimumDifference = Difference.min()\n",
        "AverageDifference = Difference.mean()\n",
        "StandardDeviation = Difference.std()\n",
        "\n",
        "print(\"Highest Ever Deviation from MA:\",MaximumDifference)\n",
        "print(\"Highest Ever Negative Deviation from MA:\",MinimumDifference)\n",
        "print(\"Average Deviation from MA:\",AverageDifference)\n",
        "print(\"The Standard Deviation of the Deviation from MA:\",StandardDeviation)\n",
        "\n",
        "#Will be using the 2 SD Measure to predict with 90 - 95 percent accuracy the range which we have come to see as the normal range of the difference between\n",
        "#the standard deviation and the Price of the Stock\n",
        "print(\"The Two Standard Deviation of the Deviation from MA:\",(2*StandardDeviation))"
      ],
      "metadata": {
        "colab": {
          "base_uri": "https://localhost:8080/"
        },
        "id": "dmuZg60M5YJZ",
        "outputId": "047b65cb-b37f-4fed-ecd6-a904654ada10"
      },
      "execution_count": null,
      "outputs": [
        {
          "output_type": "stream",
          "name": "stdout",
          "text": [
            "Highest Ever Deviation from MA: 6.358333524068193\n",
            "Highest Ever Negative Deviation from MA: -6.923332532246906\n",
            "Average Deviation from MA: 0.2087871936322176\n",
            "The Standard Deviation of the Deviation from MA: 1.5141550533755992\n",
            "The Two Standard Deviation of the Deviation from MA: 3.0283101067511984\n"
          ]
        }
      ]
    },
    {
      "cell_type": "code",
      "source": [
        "#Using the Quantile function to find the 5th and 95th percentile Price SMA Difference\n",
        "#Quartiles\n",
        "NinetiethPercentileDifference=Difference.quantile(0.95)\n",
        "TenthPercentileDifference=Difference.quantile(0.05)\n",
        "\n",
        "print(\"95th percentile of differnece from MA:\",NinetiethPercentileDifference)\n",
        "print(\"5th percentile of differnece from MA:\",TenthPercentileDifference)"
      ],
      "metadata": {
        "colab": {
          "base_uri": "https://localhost:8080/"
        },
        "id": "WXXXDyl41fsW",
        "outputId": "f1af8478-4b93-48ff-94ce-3f56ee6b2edc"
      },
      "execution_count": null,
      "outputs": [
        {
          "output_type": "stream",
          "name": "stdout",
          "text": [
            "95th percentile of differnece from MA: 2.4212347666422525\n",
            "5th percentile of differnece from MA: -2.5755008824666348\n"
          ]
        }
      ]
    },
    {
      "cell_type": "code",
      "source": [
        "#Using 1 SD to predict anomalous price points and return to normal range about 68% of the time\n",
        "\n",
        "PriceDeviationCeil=(AverageDifference + StandardDeviation)\n",
        "PriceDeviationFloor=(AverageDifference - StandardDeviation)\n",
        "print(\"Thus if the price is more than $%.2f above the 30-day SMA or more than $%.2f below the 30-day SMA, it is at an anomalous price point.\"%(PriceDeviationCeil,abs(PriceDeviationFloor)))\n",
        "print(\"Meaning it can be shorted or gone long on, and given a reasonable time, the price should return to it's normal price range thus providing profit to a trader about 70% of the time.\")"
      ],
      "metadata": {
        "colab": {
          "base_uri": "https://localhost:8080/"
        },
        "id": "VPltYwZp7Bdw",
        "outputId": "18bc7ae9-ab67-4f25-b72c-b97991c83409"
      },
      "execution_count": null,
      "outputs": [
        {
          "output_type": "stream",
          "name": "stdout",
          "text": [
            "Thus if the price is more than $1.72 above the 30-day SMA or more than $1.31 below the 30-day SMA, it is at an anomalous price point.\n",
            "Meaning it can be shorted or gone long on, and given a reasonable time, the price should return to it's normal price range thus providing profit to a trader about 70% of the time.\n"
          ]
        }
      ]
    },
    {
      "cell_type": "code",
      "source": [
        "#Using 2 SD to predict anomalous price points and return to normal range about 90-95% of the time\n",
        "\n",
        "PriceDeviationCeil2=(AverageDifference + NinetiethPercentileDifference)\n",
        "PriceDeviationFloor2=(AverageDifference - TenthPercentileDifference)\n",
        "print(\"Thus if the price is more than $%.2f above the 30-day SMA or more than $%.2f below the 30-day SMA, it is at an anomalous price point.\"%(PriceDeviationCeil2,abs(PriceDeviationFloor2)))\n",
        "print(\"Meaning it can be shorted or gone long on, and given a reasonable time, the price should return to it's normal price range thus providing profit to a trader about 90% 0f the time.\")"
      ],
      "metadata": {
        "colab": {
          "base_uri": "https://localhost:8080/"
        },
        "id": "SjoStdsl7eb1",
        "outputId": "a0cdc3c2-ac9b-49f7-cd74-a5fbe3eff63c"
      },
      "execution_count": null,
      "outputs": [
        {
          "output_type": "stream",
          "name": "stdout",
          "text": [
            "Thus if the price is more than $2.63 above the 30-day SMA or more than $2.78 below the 30-day SMA, it is at an anomalous price point.\n",
            "Meaning it can be shorted or gone long on, and given a reasonable time, the price should return to it's normal price range thus providing profit to a trader about 90% 0f the time.\n"
          ]
        }
      ]
    },
    {
      "cell_type": "code",
      "source": [
        "#Given Input of Current Closing Stock Price\n",
        "\n",
        "#Rought estimation of Optimum Price points to consider buying options for stock with above 90% chance of profit given reasonable time frame\n",
        "#Using Moving average of today\n",
        "for i in dfNaValuesDropped['30-Day MA']:\n",
        "  MostRecentThirtyDayMovingAveragePrice = i\n",
        "#print(MostRecentThirtyDayMovingAveragePrice)\n",
        "\n",
        "OptimumPriceforCall = MostRecentThirtyDayMovingAveragePrice + PriceDeviationCeil2  \n",
        "OptimumPriceforPut= MostRecentThirtyDayMovingAveragePrice - PriceDeviationFloor2\n",
        "print(\"Given current stock price of $%.2f for %s, the best price price point to buy a call is when the price is above $%.2f. At this price you are guranteed profit\"%(TodaysClosingPrice,Stock,OptimumPriceforCall))\n",
        "print(\"given a reasonable time frame 90-95% of the time\")\n",
        "\n",
        "print(\"\\nGiven current stock price of $%.2f for %s, the best price price point to buy a put is when the price is below $%.2f. At this price you are guranteed profit\"%(TodaysClosingPrice,Stock,OptimumPriceforPut))\n",
        "print(\"given a reasonable time frame 90-95% of the time\")\n"
      ],
      "metadata": {
        "colab": {
          "base_uri": "https://localhost:8080/"
        },
        "id": "tE5-JhR74GRW",
        "outputId": "b4729b8e-26b4-4788-e463-55d9d0986c16"
      },
      "execution_count": null,
      "outputs": [
        {
          "output_type": "stream",
          "name": "stdout",
          "text": [
            "Given current stock price of $49.48 for KR, the best price price point to buy a call is when the price is above $48.09. At this price you are guranteed profit\n",
            "given a reasonable time frame 90-95% of the time\n",
            "\n",
            "Given current stock price of $49.48 for KR, the best price price point to buy a put is when the price is below $42.67. At this price you are guranteed profit\n",
            "given a reasonable time frame 90-95% of the time\n"
          ]
        }
      ]
    },
    {
      "cell_type": "code",
      "source": [
        "#Number of Times Price Closed 1 SD above or Below SMA (Anomalous)\n",
        "NumberOfTimesPriceWasAnomalous=0\n",
        "for i in (dfNaValuesDropped['Price - MA']):\n",
        "  #print(i)\n",
        "  if (i > PriceDeviationCeil or i < PriceDeviationFloor): \n",
        "    NumberOfTimesPriceWasAnomalous+=1\n",
        "\n",
        "print(\"The price of the stock closed out of your range\",NumberOfTimesPriceWasAnomalous,\"days out of the dataset of\",shape[0],\"days\")\n",
        "\n",
        "Percentage=((NumberOfTimesPriceWasAnomalous)/(shape[0]))*100\n",
        "#print(\"%.16f \"%(Percentage))\n",
        "\n",
        "print(\"The price has only ever been outside the 1 S.D range %.2f percent of the time\"%(Percentage))"
      ],
      "metadata": {
        "colab": {
          "base_uri": "https://localhost:8080/"
        },
        "id": "mgNhJkA7AeEN",
        "outputId": "9ff0c89a-252b-4a31-8742-d22d33887a11"
      },
      "execution_count": null,
      "outputs": [
        {
          "output_type": "stream",
          "name": "stdout",
          "text": [
            "The price of the stock closed out of your range 595 days out of the dataset of 2247 days\n",
            "The price has only ever been outside the 1 S.D range 26.48 percent of the time\n"
          ]
        }
      ]
    },
    {
      "cell_type": "code",
      "source": [
        "#Number of Times Price Closed 2 SD above or Below SMA (Very Anomalous)\n",
        "NumberOfTimesPriceWasVeryAnomalous=0\n",
        "for i in (dfNaValuesDropped['Price - MA']):\n",
        "  #print(i)\n",
        "  if (i > NinetiethPercentileDifference or i < TenthPercentileDifference): \n",
        "    NumberOfTimesPriceWasVeryAnomalous+=1\n",
        "\n",
        "print(\"The price of the stock closed out of your range\",NumberOfTimesPriceWasVeryAnomalous,\"days out of the dataset of\",shape[0],\"days\")\n",
        "\n",
        "Percentage=((NumberOfTimesPriceWasVeryAnomalous)/(shape[0]))*100\n",
        "#print(\"%.16f \"%(Percentage))\n",
        "\n",
        "print(\"The price has only ever closed outside the 2 S.D. range %.2f percent of the time\"%(Percentage))"
      ],
      "metadata": {
        "colab": {
          "base_uri": "https://localhost:8080/"
        },
        "id": "sSENuuClDa1V",
        "outputId": "4ec12baa-321c-4d3b-e060-d9c7da2d027c"
      },
      "execution_count": null,
      "outputs": [
        {
          "output_type": "stream",
          "name": "stdout",
          "text": [
            "The price of the stock closed out of your range 226 days out of the dataset of 2247 days\n",
            "The price has only ever closed outside the 2 S.D. range 10.06 percent of the time\n"
          ]
        }
      ]
    },
    {
      "cell_type": "code",
      "source": [
        "#Reprint of Table without NaN values for the '30-Day moving average' and consequently the 'Price - MA' fields\n",
        "print(dfNaValuesDropped)"
      ],
      "metadata": {
        "colab": {
          "base_uri": "https://localhost:8080/"
        },
        "id": "UQdqw-5VWO89",
        "outputId": "96ff44d6-99c2-4092-972c-3f699bf5055e"
      },
      "execution_count": null,
      "outputs": [
        {
          "output_type": "stream",
          "name": "stdout",
          "text": [
            "                 Open       High        Low  ...    Volume  30-Day MA  Price - MA\n",
            "Date                                         ...                                 \n",
            "2013-02-13  14.250000  14.300000  14.185000  ...   5036200  13.562167    0.667833\n",
            "2013-02-14  14.155000  14.205000  14.090000  ...   8496000  13.593333    0.526667\n",
            "2013-02-15  14.085000  14.105000  13.900000  ...  12215000  13.618333    0.326666\n",
            "2013-02-19  14.005000  14.125000  14.000000  ...   7671400  13.647500    0.457500\n",
            "2013-02-20  14.080000  14.090000  13.820000  ...   8541800  13.678333    0.156667\n",
            "...               ...        ...        ...  ...       ...        ...         ...\n",
            "2022-01-07  47.250000  48.889999  47.139999  ...   8672700  44.583333    3.536666\n",
            "2022-01-10  48.290001  49.580002  48.150002  ...  10632300  44.782000    4.317999\n",
            "2022-01-11  49.110001  49.689999  47.330002  ...   8873500  44.960666    2.749333\n",
            "2022-01-12  47.049999  47.270000  46.169998  ...   6787000  45.147666    1.992333\n",
            "2022-01-13  47.259998  50.150002  47.150002  ...  12376679  45.456666    4.023333\n",
            "\n",
            "[2247 rows x 8 columns]\n"
          ]
        }
      ]
    },
    {
      "cell_type": "code",
      "source": [
        "#Table of only the days where the Prices closed at a very anomalous point relative to the 30-Day MA (where 'Price - MA' was outside its 2 SD range)\n",
        "\n",
        "PricesGreaterThanTwoSDFilter = (dfNaValuesDropped['Price - MA'] > NinetiethPercentileDifference)\n",
        "NegativePriceGreaterThanTwoSDFilter = (dfNaValuesDropped['Price - MA'] < TenthPercentileDifference)\n",
        "VeryAnomalousPrices = dfNaValuesDropped[PricesGreaterThanTwoSDFilter | NegativePriceGreaterThanTwoSDFilter]\n",
        "#print(PricesGreaterThanTwoSDFilter)\n",
        "print(VeryAnomalousPrices)"
      ],
      "metadata": {
        "colab": {
          "base_uri": "https://localhost:8080/"
        },
        "id": "LPO3cIBHRwFp",
        "outputId": "87397223-9b97-4183-83c3-fb0de0ee6684"
      },
      "execution_count": null,
      "outputs": [
        {
          "output_type": "stream",
          "name": "stdout",
          "text": [
            "                 Open       High        Low  ...    Volume  30-Day MA  Price - MA\n",
            "Date                                         ...                                 \n",
            "2014-03-05  21.219999  21.865000  21.139999  ...  20707000  18.987667    2.852334\n",
            "2014-03-06  22.410000  22.625000  21.549999  ...  25929800  19.103333    2.581666\n",
            "2014-03-07  21.745001  22.184999  21.690001  ...  17548400  19.226333    2.663666\n",
            "2014-03-10  21.850000  21.905001  21.799999  ...  11286200  19.354166    2.520834\n",
            "2015-02-04  35.275002  35.805000  35.209999  ...  11593400  33.231500    2.443500\n",
            "...               ...        ...        ...  ...       ...        ...         ...\n",
            "2022-01-06  47.020000  47.430000  46.349998  ...   7115600  44.397333    2.722666\n",
            "2022-01-07  47.250000  48.889999  47.139999  ...   8672700  44.583333    3.536666\n",
            "2022-01-10  48.290001  49.580002  48.150002  ...  10632300  44.782000    4.317999\n",
            "2022-01-11  49.110001  49.689999  47.330002  ...   8873500  44.960666    2.749333\n",
            "2022-01-13  47.259998  50.150002  47.150002  ...  12376679  45.456666    4.023333\n",
            "\n",
            "[226 rows x 8 columns]\n"
          ]
        }
      ]
    },
    {
      "cell_type": "code",
      "source": [
        "#Putting Together a List which contains Stints of days (Consecutive days where prices were very anomalous)\n",
        "#This is to calculate when the price did close at an Anomalous price point it dropped or went up by this much, and it took an average of this long give or take this number of days\n",
        "import itertools\n",
        "from datetime import timedelta, date\n",
        "\n",
        "print(VeryAnomalousPrices.index)\n",
        "\n",
        "#print(Today + timedelta(days=5)) #adding 5 days to Today's Date\n",
        "new_veryanomalousprices = [(VeryAnomalousPrices.index[i+1] - VeryAnomalousPrices.index[i], VeryAnomalousPrices.index[i]) for i in range (len(VeryAnomalousPrices.index)-1)]\n",
        "veryanomalousprices = [[veryanomalousprices,[c for _, c in b]] for veryanomalousprices, b in itertools.groupby (new_veryanomalousprices, key=lambda x:x[0] < (timedelta(days=5)))]\n",
        "final_dates = [veryanomalousprices[i][-1]+[veryanomalousprices[i+1][-1][0]] if veryanomalousprices[i+1][-1][0] - veryanomalousprices[i][-1][-1] < (timedelta(days=5)) else veryanomalousprices[i][-1] for i in range(len(veryanomalousprices)-1) if veryanomalousprices[i][0]]\n",
        "print(final_dates)\n",
        "\n",
        "#for i in final_dates:\n",
        "  #for j in i:\n",
        "    #new_Final_Dates=datetime.strptime('j', '%Y-%m-%d %I:%M:%S').date()\n",
        "#Grouped= new_Final_Dates.strftime('%d%b%Y')\n",
        "#print(Grouped)"
      ],
      "metadata": {
        "colab": {
          "base_uri": "https://localhost:8080/"
        },
        "id": "ad6YNbGKaJB4",
        "outputId": "72369a17-fe53-4809-ddae-c03c6c8dbf89"
      },
      "execution_count": null,
      "outputs": [
        {
          "output_type": "stream",
          "name": "stdout",
          "text": [
            "DatetimeIndex(['2014-03-05', '2014-03-06', '2014-03-07', '2014-03-10',\n",
            "               '2015-02-04', '2015-02-05', '2015-04-22', '2015-04-28',\n",
            "               '2015-04-29', '2015-04-30',\n",
            "               ...\n",
            "               '2021-12-13', '2021-12-14', '2021-12-15', '2021-12-16',\n",
            "               '2022-01-05', '2022-01-06', '2022-01-07', '2022-01-10',\n",
            "               '2022-01-11', '2022-01-13'],\n",
            "              dtype='datetime64[ns]', name='Date', length=226, freq=None)\n",
            "[[Timestamp('2014-03-05 00:00:00'), Timestamp('2014-03-06 00:00:00'), Timestamp('2014-03-07 00:00:00'), Timestamp('2014-03-10 00:00:00')], [Timestamp('2015-02-04 00:00:00'), Timestamp('2015-02-05 00:00:00')], [Timestamp('2015-04-28 00:00:00'), Timestamp('2015-04-29 00:00:00'), Timestamp('2015-04-30 00:00:00')], [Timestamp('2015-08-21 00:00:00'), Timestamp('2015-08-24 00:00:00'), Timestamp('2015-08-25 00:00:00'), Timestamp('2015-08-26 00:00:00'), Timestamp('2015-08-28 00:00:00'), Timestamp('2015-08-31 00:00:00'), Timestamp('2015-09-01 00:00:00'), Timestamp('2015-09-04 00:00:00')], [Timestamp('2015-12-03 00:00:00'), Timestamp('2015-12-04 00:00:00'), Timestamp('2015-12-07 00:00:00'), Timestamp('2015-12-08 00:00:00'), Timestamp('2015-12-09 00:00:00'), Timestamp('2015-12-10 00:00:00'), Timestamp('2015-12-11 00:00:00'), Timestamp('2015-12-14 00:00:00'), Timestamp('2015-12-15 00:00:00'), Timestamp('2015-12-16 00:00:00'), Timestamp('2015-12-17 00:00:00')], [Timestamp('2015-12-22 00:00:00'), Timestamp('2015-12-23 00:00:00'), Timestamp('2015-12-24 00:00:00'), Timestamp('2015-12-28 00:00:00'), Timestamp('2015-12-29 00:00:00')], [Timestamp('2016-01-15 00:00:00'), Timestamp('2016-01-19 00:00:00'), Timestamp('2016-01-20 00:00:00'), Timestamp('2016-01-21 00:00:00'), Timestamp('2016-01-22 00:00:00'), Timestamp('2016-01-25 00:00:00'), Timestamp('2016-01-26 00:00:00'), Timestamp('2016-01-27 00:00:00')], [Timestamp('2016-02-08 00:00:00'), Timestamp('2016-02-09 00:00:00'), Timestamp('2016-02-11 00:00:00')], [Timestamp('2016-08-02 00:00:00'), Timestamp('2016-08-03 00:00:00'), Timestamp('2016-08-04 00:00:00'), Timestamp('2016-08-05 00:00:00'), Timestamp('2016-08-08 00:00:00'), Timestamp('2016-08-09 00:00:00'), Timestamp('2016-08-10 00:00:00'), Timestamp('2016-08-11 00:00:00'), Timestamp('2016-08-12 00:00:00'), Timestamp('2016-08-16 00:00:00'), Timestamp('2016-08-17 00:00:00')], [Timestamp('2016-11-11 00:00:00'), Timestamp('2016-11-14 00:00:00'), Timestamp('2016-11-15 00:00:00')], [Timestamp('2017-03-02 00:00:00'), Timestamp('2017-03-03 00:00:00'), Timestamp('2017-03-06 00:00:00'), Timestamp('2017-03-07 00:00:00'), Timestamp('2017-03-08 00:00:00'), Timestamp('2017-03-09 00:00:00'), Timestamp('2017-03-10 00:00:00'), Timestamp('2017-03-13 00:00:00'), Timestamp('2017-03-14 00:00:00'), Timestamp('2017-03-15 00:00:00')], [Timestamp('2017-06-15 00:00:00'), Timestamp('2017-06-16 00:00:00'), Timestamp('2017-06-19 00:00:00'), Timestamp('2017-06-20 00:00:00'), Timestamp('2017-06-21 00:00:00'), Timestamp('2017-06-22 00:00:00'), Timestamp('2017-06-23 00:00:00'), Timestamp('2017-06-26 00:00:00'), Timestamp('2017-06-27 00:00:00'), Timestamp('2017-06-28 00:00:00'), Timestamp('2017-06-29 00:00:00'), Timestamp('2017-06-30 00:00:00'), Timestamp('2017-07-03 00:00:00'), Timestamp('2017-07-05 00:00:00'), Timestamp('2017-07-06 00:00:00'), Timestamp('2017-07-07 00:00:00'), Timestamp('2017-07-10 00:00:00'), Timestamp('2017-07-11 00:00:00'), Timestamp('2017-07-12 00:00:00')], [Timestamp('2017-11-29 00:00:00'), Timestamp('2017-11-30 00:00:00'), Timestamp('2017-12-01 00:00:00'), Timestamp('2017-12-04 00:00:00'), Timestamp('2017-12-05 00:00:00'), Timestamp('2017-12-06 00:00:00'), Timestamp('2017-12-07 00:00:00'), Timestamp('2017-12-08 00:00:00'), Timestamp('2017-12-11 00:00:00'), Timestamp('2017-12-12 00:00:00'), Timestamp('2017-12-13 00:00:00')], [Timestamp('2017-12-18 00:00:00'), Timestamp('2017-12-19 00:00:00'), Timestamp('2017-12-20 00:00:00'), Timestamp('2017-12-21 00:00:00'), Timestamp('2017-12-22 00:00:00'), Timestamp('2017-12-26 00:00:00')], [Timestamp('2018-01-26 00:00:00'), Timestamp('2018-01-29 00:00:00'), Timestamp('2018-01-30 00:00:00')], [Timestamp('2018-03-08 00:00:00'), Timestamp('2018-03-09 00:00:00'), Timestamp('2018-03-12 00:00:00'), Timestamp('2018-03-13 00:00:00'), Timestamp('2018-03-14 00:00:00'), Timestamp('2018-03-15 00:00:00'), Timestamp('2018-03-16 00:00:00'), Timestamp('2018-03-19 00:00:00'), Timestamp('2018-03-20 00:00:00'), Timestamp('2018-03-21 00:00:00'), Timestamp('2018-03-22 00:00:00'), Timestamp('2018-03-23 00:00:00')], [Timestamp('2018-06-21 00:00:00'), Timestamp('2018-06-22 00:00:00'), Timestamp('2018-06-25 00:00:00'), Timestamp('2018-06-26 00:00:00'), Timestamp('2018-06-27 00:00:00'), Timestamp('2018-06-28 00:00:00')], [Timestamp('2018-10-11 00:00:00'), Timestamp('2018-10-12 00:00:00')], [Timestamp('2018-11-07 00:00:00'), Timestamp('2018-11-08 00:00:00'), Timestamp('2018-11-09 00:00:00'), Timestamp('2018-11-12 00:00:00'), Timestamp('2018-11-13 00:00:00')], [Timestamp('2019-03-07 00:00:00'), Timestamp('2019-03-08 00:00:00'), Timestamp('2019-03-11 00:00:00'), Timestamp('2019-03-12 00:00:00'), Timestamp('2019-03-13 00:00:00'), Timestamp('2019-03-14 00:00:00'), Timestamp('2019-03-15 00:00:00'), Timestamp('2019-03-18 00:00:00'), Timestamp('2019-03-19 00:00:00'), Timestamp('2019-03-20 00:00:00'), Timestamp('2019-03-21 00:00:00'), Timestamp('2019-03-22 00:00:00'), Timestamp('2019-03-25 00:00:00')], [Timestamp('2019-09-10 00:00:00'), Timestamp('2019-09-13 00:00:00')], [Timestamp('2020-03-05 00:00:00'), Timestamp('2020-03-06 00:00:00'), Timestamp('2020-03-10 00:00:00')], [Timestamp('2020-03-17 00:00:00'), Timestamp('2020-03-18 00:00:00'), Timestamp('2020-03-19 00:00:00')], [Timestamp('2020-09-16 00:00:00'), Timestamp('2020-09-17 00:00:00')], [Timestamp('2021-01-25 00:00:00'), Timestamp('2021-01-26 00:00:00'), Timestamp('2021-01-27 00:00:00'), Timestamp('2021-01-28 00:00:00')], [Timestamp('2021-03-23 00:00:00'), Timestamp('2021-03-26 00:00:00'), Timestamp('2021-03-29 00:00:00'), Timestamp('2021-03-30 00:00:00')], [Timestamp('2021-08-03 00:00:00'), Timestamp('2021-08-04 00:00:00')], [Timestamp('2021-08-09 00:00:00'), Timestamp('2021-08-10 00:00:00'), Timestamp('2021-08-11 00:00:00'), Timestamp('2021-08-12 00:00:00'), Timestamp('2021-08-13 00:00:00'), Timestamp('2021-08-16 00:00:00'), Timestamp('2021-08-17 00:00:00'), Timestamp('2021-08-18 00:00:00'), Timestamp('2021-08-19 00:00:00'), Timestamp('2021-08-20 00:00:00'), Timestamp('2021-08-23 00:00:00'), Timestamp('2021-08-24 00:00:00'), Timestamp('2021-08-25 00:00:00'), Timestamp('2021-08-26 00:00:00'), Timestamp('2021-08-27 00:00:00'), Timestamp('2021-08-30 00:00:00'), Timestamp('2021-08-31 00:00:00'), Timestamp('2021-09-01 00:00:00'), Timestamp('2021-09-02 00:00:00'), Timestamp('2021-09-03 00:00:00')], [Timestamp('2021-09-14 00:00:00'), Timestamp('2021-09-15 00:00:00'), Timestamp('2021-09-16 00:00:00'), Timestamp('2021-09-17 00:00:00'), Timestamp('2021-09-20 00:00:00'), Timestamp('2021-09-21 00:00:00'), Timestamp('2021-09-22 00:00:00'), Timestamp('2021-09-23 00:00:00'), Timestamp('2021-09-24 00:00:00'), Timestamp('2021-09-27 00:00:00'), Timestamp('2021-09-28 00:00:00'), Timestamp('2021-09-30 00:00:00'), Timestamp('2021-10-01 00:00:00'), Timestamp('2021-10-04 00:00:00'), Timestamp('2021-10-05 00:00:00'), Timestamp('2021-10-06 00:00:00'), Timestamp('2021-10-07 00:00:00'), Timestamp('2021-10-08 00:00:00')], [Timestamp('2021-11-03 00:00:00'), Timestamp('2021-11-04 00:00:00')], [Timestamp('2021-12-02 00:00:00'), Timestamp('2021-12-06 00:00:00'), Timestamp('2021-12-07 00:00:00')], [Timestamp('2021-12-13 00:00:00'), Timestamp('2021-12-14 00:00:00'), Timestamp('2021-12-15 00:00:00'), Timestamp('2021-12-16 00:00:00')]]\n"
          ]
        }
      ]
    },
    {
      "cell_type": "code",
      "source": [
        "#Finding the average number of days spent outside 2 S.D Range\n",
        "\n",
        "DateLengthList=[]\n",
        "for i in (final_dates):\n",
        "  NumberofDaysInARow=len(i)\n",
        "  #print(NumberofDaysInARow)\n",
        "  DateLengthList.append(NumberofDaysInARow)\n",
        "\n",
        "print(\"List of number of days in a stint:\",DateLengthList)\n",
        "print(\"Length of list with number of days in stint:\",len(DateLengthList))\n",
        "\n",
        "AverageTimeSpentOutsideRange = ((sum(DateLengthList))/(len(DateLengthList)))\n",
        "\n",
        "HighestNumberofDays=max(DateLengthList)\n",
        "LowestNumberofDays= min(DateLengthList)\n",
        "\n",
        "print(\"\\nAverage number of Days it takes to return to within the 2 SD Range is %d days\"%(round(AverageTimeSpentOutsideRange)))\n",
        "print(\"The Maximum number of Days it has ever taken to drop down back to below the the 2 SD price range was %d days\"%(HighestNumberofDays))\n",
        "print(\"The Minimum number of Days it has ever taken to drop down back to below the the 2 SD price range was %d days (this is irrelivant information for the purpose of this caluculation)\"%(LowestNumberofDays))"
      ],
      "metadata": {
        "colab": {
          "base_uri": "https://localhost:8080/"
        },
        "id": "xcrhaugiImJf",
        "outputId": "11d41af0-1475-4633-bf79-d71219b9c046"
      },
      "execution_count": null,
      "outputs": [
        {
          "output_type": "stream",
          "name": "stdout",
          "text": [
            "List of number of days in a stint: [4, 2, 3, 8, 11, 5, 8, 3, 11, 3, 10, 19, 11, 6, 3, 12, 6, 2, 5, 13, 2, 3, 3, 2, 4, 4, 2, 20, 18, 2, 3, 4]\n",
            "Length of list with number of days in stint: 32\n",
            "\n",
            "Average number of Days it takes to return to within the 2 SD Range is 7 days\n",
            "The Maximum number of Days it has ever taken to drop down back to below the the 2 SD price range was 20 days\n",
            "The Minimum number of Days it has ever taken to drop down back to below the the 2 SD price range was 2 days (this is irrelivant information for the purpose of this caluculation)\n"
          ]
        }
      ]
    },
    {
      "cell_type": "code",
      "source": [
        "##Five number summary of Stints\n",
        "#Given the history of the Stocks price Action, it should not take longer than the Highest number of Days variable to return to normal price range\n",
        "print(\"Thus given the history of the stock, it is reasonable to postulate it should not take more than %d days for the price to return to normal price range\"%(HighestNumberofDays)) \n",
        "print(\"However, because options expire worthless at the expiry date, it is advised that you buy options with expiration dates farther out the period you believe\")\n",
        "print(\"they will enter the money\")\n",
        "\n",
        "#Hypothesis\n",
        "DoubleMaximumDate = HighestNumberofDays * 2\n",
        "print(\"\\nI postulate a reasonable difference or margin of safety from the the maximum date for option expiration date should be double the maximum date,\")\n",
        "print(\"which is %d days\"%(DoubleMaximumDate))"
      ],
      "metadata": {
        "colab": {
          "base_uri": "https://localhost:8080/"
        },
        "id": "jekBZBfMHkq8",
        "outputId": "32d922bd-88e4-45cb-f129-be8e41554f15"
      },
      "execution_count": null,
      "outputs": [
        {
          "output_type": "stream",
          "name": "stdout",
          "text": [
            "Thus given the history of the stock, it is reasonable to postulate it should not take more than 20 days for the price to return to normal price range\n",
            "However, because options expire worthless at the expiry date, it is advised that you buy options with expiration dates farther out the period you believe\n",
            "they will enter the money\n",
            "\n",
            "I postulate a reasonable difference or margin of safety from the the maximum date for option expiration date should be double the maximum date,\n",
            "which is 40 days\n"
          ]
        }
      ]
    },
    {
      "cell_type": "code",
      "source": [
        "# Algorithm Conclusion and Final Output\n",
        "\n",
        "print(\"The best action to take with %s stock given the current stock price of $%.2f and the above algorithm for a 90 - 95 percent chance of profit is:\"%(Stock,TodaysClosingPrice))\n",
        "print(\"is:\")\n",
        "if (TodaysClosingPrice > OptimumPriceforCall):\n",
        "  print(\"\\nBuy Call Stock Option with expiration date more than %d days away if you do not have a budget or %d days away if you have a buget(However this is not optimal).\\nSell this option when the price is $%.2f or lower\"%(DoubleMaximumDate,HighestNumberofDays,OptimumPriceforCall))\n",
        "\n",
        "elif (TodaysClosingPrice < OptimumPriceforPut):\n",
        "  print(\"\\nBuy Put Stock Option with expiration date more than %d days away if you do not have a budget or %d days away if you have a buget(However this is not optimal).\\nSell this option when the price is $%.2f or lower\"%(DoubleMaximumDate,HighestNumberofDays,OptimumPriceforPut))\n",
        "\n",
        "else:\n",
        "  print(\"\\nTo not do anything, as the current price point is not very anomalous\")\n",
        "\n",
        "print(\"\\033[1;32m \\n\\nNote: None of this is financial advice nor should considered investing advice this is just a program I created for fun, and any advice qouted from \\nhere should be used at the investor's own risk\")"
      ],
      "metadata": {
        "colab": {
          "base_uri": "https://localhost:8080/"
        },
        "id": "sYBQBGfQMc00",
        "outputId": "8f73622a-5d83-4893-fb24-b8915c741898"
      },
      "execution_count": null,
      "outputs": [
        {
          "output_type": "stream",
          "name": "stdout",
          "text": [
            "The best action to take with KR stock given the current stock price of $49.48 and the above algorithm for a 90 - 95 percent chance of profit is:\n",
            "is:\n",
            "\n",
            "Buy Call Stock Option with expiration date more than 40 days away if you do not have a budget or 20 days away if you have a buget(However this is not optimal).\n",
            "Sell this option when the price is $48.09 or lower\n",
            "\u001b[1;32m \n",
            "\n",
            "Note: None of this is financial advice nor should considered investing advice this is just a program I created for fun, and any advice qouted from \n",
            "here should be used at the investor's own risk\n"
          ]
        }
      ]
    },
    {
      "cell_type": "code",
      "source": [
        ""
      ],
      "metadata": {
        "id": "Wnd_AANhTrMF"
      },
      "execution_count": null,
      "outputs": []
    }
  ]
}